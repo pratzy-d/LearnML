{
 "cells": [
  {
   "cell_type": "code",
   "execution_count": 2,
   "id": "be9dccb4",
   "metadata": {},
   "outputs": [],
   "source": [
    "# import the necessary packages\n",
    "import numpy as np\n",
    "from matplotlib import pyplot as plt\n",
    "np.random.seed(100)"
   ]
  },
  {
   "cell_type": "code",
   "execution_count": 5,
   "id": "f4ee1f55",
   "metadata": {},
   "outputs": [],
   "source": [
    "x = np.random.randint(100, size=100)/30 - 2"
   ]
  },
  {
   "cell_type": "code",
   "execution_count": 79,
   "id": "af3b8569",
   "metadata": {},
   "outputs": [
    {
     "data": {
      "text/plain": [
       "100"
      ]
     },
     "execution_count": 79,
     "metadata": {},
     "output_type": "execute_result"
    }
   ],
   "source": [
    "X = x.reshape(-1,1)\n",
    "y = x + -3 + 0.3*np.random.randn(100)\n"
   ]
  },
  {
   "cell_type": "code",
   "execution_count": 80,
   "id": "0a574dd3",
   "metadata": {},
   "outputs": [
    {
     "data": {
      "text/plain": [
       "<matplotlib.collections.PathCollection at 0x7ffb880dcc40>"
      ]
     },
     "execution_count": 80,
     "metadata": {},
     "output_type": "execute_result"
    },
    {
     "data": {
      "image/png": "[encoded data removed]",
      "text/plain": [
       "<Figure size 432x288 with 1 Axes>"
      ]
     },
     "metadata": {
      "needs_background": "light"
     },
     "output_type": "display_data"
    }
   ],
   "source": [
    "plt.scatter(X, y)"
   ]
  },
  {
   "cell_type": "code",
   "execution_count": 69,
   "id": "3833dae4",
   "metadata": {},
   "outputs": [
    {
     "data": {
      "text/plain": [
       "array([ 0.56103474, -0.13502549, -0.65600117,  1.76363526,  0.38887714,\n",
       "       -1.01459813, -0.27978552, -3.01814403, -0.99713967, -1.25911088,\n",
       "       -0.81374295,  1.3494164 , -0.29001746, -1.76890346,  0.47367235,\n",
       "       -1.24796371, -0.77387794, -0.63673125, -0.18262586, -0.40304067,\n",
       "       -0.65806204, -0.8677043 , -1.06931038, -0.50559909,  1.18366826,\n",
       "       -0.32170145, -0.73926018])"
      ]
     },
     "execution_count": 69,
     "metadata": {},
     "output_type": "execute_result"
    }
   ],
   "source": [
    "    m = np.shape(X)[0]  # total number of samples\n",
    "    n = np.shape(X)[1]  # total number of features\n",
    "    X = np.concatenate((np.ones((m, 1)), X), axis=1)\n",
    "    W = np.random.randn(n + 1, )\n",
    "    W"
   ]
  },
  {
   "cell_type": "code",
   "execution_count": 77,
   "id": "47cbb014",
   "metadata": {},
   "outputs": [],
   "source": [
    "def regularized_linear_regression(X, y, alpha=0.01, lambda_value=1, epochs=30):\n",
    "    \"\"\"\n",
    "    :param x: feature matrix\n",
    "    :param y: target vector\n",
    "    :param alpha: learning rate (default:0.01)\n",
    "    :param lambda_value: lambda (default:1)\n",
    "    :param epochs: maximum number of iterations of the\n",
    "           linear regression algorithm for a single run (default=30)\n",
    "    :return: weights, list of the cost function changing overtime\n",
    "    \"\"\"\n",
    " \n",
    "    m = np.shape(X)[0]  # total number of samples\n",
    "    n = np.shape(X)[1]  # total number of features\n",
    " \n",
    "    X = np.concatenate((np.ones((m, 1)), X), axis=1)\n",
    "    W = np.random.randn(n + 1, )\n",
    " \n",
    "    # stores the updates on the cost function (loss function)\n",
    "    cost_history_list = []\n",
    " \n",
    "    # iterate until the maximum number of epochs\n",
    "    for current_iteration in np.arange(epochs):  # begin the process\n",
    "        # compute the dot product between our feature 'X' and weight 'W'\n",
    "        y_estimated = X.dot(W)\n",
    " \n",
    "        # calculate the difference between the actual and predicted value\n",
    "        error = y_estimated - y\n",
    "\n",
    "        \n",
    "############################################################################################################## \n",
    "####################################### Begin of Question 1.3 ################################################\n",
    "##############################################################################################################\n",
    "      \n",
    "        ##### Please write down your code here:####\n",
    "                \n",
    "        # calculate the cost (MSE) (Equation 1)\n",
    "        cost_without_regularization = (1/ 2*m) * sum(val**2 for val in (error))\n",
    "        #cost_without_regularization = (1/ 2*m) * np.sum(error ** 2)        \n",
    "        \n",
    "        ##### Please write down your code here:####\n",
    "        \n",
    "        # regularization term\n",
    "        reg_term = (lambda_value/ 2*m) * np.sum(np.square(W))\n",
    "        \n",
    "        \n",
    "        # calculate the cost (MSE) + regularization term (Equation 3)\n",
    "        cost_with_regularization = cost_without_regularization + reg_term\n",
    "        \n",
    "############################################################################################################## \n",
    "####################################### End of Question 1.3 ##################################################\n",
    "##############################################################################################################          \n",
    " \n",
    "    \n",
    "############################################################################################################## \n",
    "####################################### Begin of Question 1.4 ################################################\n",
    "############################################################################################################## \n",
    "        \n",
    "        ##### Please write down your code here:####\n",
    "        \n",
    "        # calculate the gradient of the cost function with regularization term (Equation )\n",
    "        # gradient (derivative) = 1st term + 2nd term\n",
    "        # W - all weights\n",
    "        gradient = ((1/m) * (X.T.dot(error))) + ((lambda_value/m) * W) \n",
    " \n",
    "\n",
    "        # Now we have to update our weights\n",
    "        W = W - alpha * gradient\n",
    "        \n",
    "############################################################################################################## \n",
    "####################################### End of Question 1.4 ##################################################\n",
    "##############################################################################################################          \n",
    " \n",
    "        # keep track the cost as it changes in each iteration\n",
    "        cost_history_list.append(cost_with_regularization)\n",
    "        \n",
    "    # Let's print out the cost\n",
    "    print(f\"Cost with regularization: {cost_with_regularization}\")\n",
    "    print(f\"Mean square error: {cost_without_regularization}\")\n",
    " \n",
    "    return W, cost_history_list"
   ]
  },
  {
   "cell_type": "code",
   "execution_count": null,
   "id": "8bee5fe4",
   "metadata": {},
   "outputs": [],
   "source": []
  }
 ],
 "metadata": {
  "kernelspec": {
   "display_name": "Python 3 (ipykernel)",
   "language": "python",
   "name": "python3"
  },
  "language_info": {
   "codemirror_mode": {
    "name": "ipython",
    "version": 3
   },
   "file_extension": ".py",
   "mimetype": "text/x-python",
   "name": "python",
   "nbconvert_exporter": "python",
   "pygments_lexer": "ipython3",
   "version": "3.9.7"
  }
 },
 "nbformat": 4,
 "nbformat_minor": 5
}
